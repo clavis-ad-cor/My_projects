{
  "cells": [
    {
      "cell_type": "markdown",
      "id": "047674ee",
      "metadata": {
        "id": "047674ee"
      },
      "source": [
        "# Бустинг (5 баллов)"
      ]
    },
    {
      "cell_type": "markdown",
      "id": "d8461109",
      "metadata": {
        "id": "d8461109"
      },
      "source": [
        "В этой части будем предсказывать зарплату data scientist-ов в зависимости  от ряда факторов с помощью градиентного бустинга."
      ]
    },
    {
      "cell_type": "markdown",
      "id": "1651e8dd",
      "metadata": {
        "id": "1651e8dd"
      },
      "source": [
        "В датасете есть следующие признаки:\n",
        "\n",
        "\n",
        "\n",
        "* work_year: The number of years of work experience in the field of data science.\n",
        "\n",
        "* experience_level: The level of experience, such as Junior, Senior, or Lead.\n",
        "\n",
        "* employment_type: The type of employment, such as Full-time or Contract.\n",
        "\n",
        "* job_title: The specific job title or role, such as Data Analyst or Data Scientist.\n",
        "\n",
        "* salary: The salary amount for the given job.\n",
        "\n",
        "* salary_currency: The currency in which the salary is denoted.\n",
        "\n",
        "* salary_in_usd: The equivalent salary amount converted to US dollars (USD) for comparison purposes.\n",
        "\n",
        "* employee_residence: The country or region where the employee resides.\n",
        "\n",
        "* remote_ratio: The percentage of remote work offered in the job.\n",
        "\n",
        "* company_location: The location of the company or organization.\n",
        "\n",
        "* company_size: The company's size is categorized as Small, Medium, or Large."
      ]
    },
    {
      "cell_type": "code",
      "execution_count": 3,
      "id": "dbf7595c",
      "metadata": {
        "colab": {
          "base_uri": "https://localhost:8080/",
          "height": 330
        },
        "id": "dbf7595c",
        "outputId": "ccbeb138-9d90-4771-f017-25ac4c02da7a"
      },
      "outputs": [
        {
          "output_type": "execute_result",
          "data": {
            "text/plain": [
              "   work_year experience_level employment_type                 job_title  \\\n",
              "0       2023               SE              FT  Principal Data Scientist   \n",
              "1       2023               MI              CT               ML Engineer   \n",
              "2       2023               MI              CT               ML Engineer   \n",
              "3       2023               SE              FT            Data Scientist   \n",
              "4       2023               SE              FT            Data Scientist   \n",
              "\n",
              "   salary salary_currency  salary_in_usd employee_residence  remote_ratio  \\\n",
              "0   80000             EUR          85847                 ES           100   \n",
              "1   30000             USD          30000                 US           100   \n",
              "2   25500             USD          25500                 US           100   \n",
              "3  175000             USD         175000                 CA           100   \n",
              "4  120000             USD         120000                 CA           100   \n",
              "\n",
              "  company_location company_size  \n",
              "0               ES            L  \n",
              "1               US            S  \n",
              "2               US            S  \n",
              "3               CA            M  \n",
              "4               CA            M  "
            ],
            "text/html": [
              "\n",
              "  <div id=\"df-e3aa968f-914c-4b36-8664-5b1c70f523e5\" class=\"colab-df-container\">\n",
              "    <div>\n",
              "<style scoped>\n",
              "    .dataframe tbody tr th:only-of-type {\n",
              "        vertical-align: middle;\n",
              "    }\n",
              "\n",
              "    .dataframe tbody tr th {\n",
              "        vertical-align: top;\n",
              "    }\n",
              "\n",
              "    .dataframe thead th {\n",
              "        text-align: right;\n",
              "    }\n",
              "</style>\n",
              "<table border=\"1\" class=\"dataframe\">\n",
              "  <thead>\n",
              "    <tr style=\"text-align: right;\">\n",
              "      <th></th>\n",
              "      <th>work_year</th>\n",
              "      <th>experience_level</th>\n",
              "      <th>employment_type</th>\n",
              "      <th>job_title</th>\n",
              "      <th>salary</th>\n",
              "      <th>salary_currency</th>\n",
              "      <th>salary_in_usd</th>\n",
              "      <th>employee_residence</th>\n",
              "      <th>remote_ratio</th>\n",
              "      <th>company_location</th>\n",
              "      <th>company_size</th>\n",
              "    </tr>\n",
              "  </thead>\n",
              "  <tbody>\n",
              "    <tr>\n",
              "      <th>0</th>\n",
              "      <td>2023</td>\n",
              "      <td>SE</td>\n",
              "      <td>FT</td>\n",
              "      <td>Principal Data Scientist</td>\n",
              "      <td>80000</td>\n",
              "      <td>EUR</td>\n",
              "      <td>85847</td>\n",
              "      <td>ES</td>\n",
              "      <td>100</td>\n",
              "      <td>ES</td>\n",
              "      <td>L</td>\n",
              "    </tr>\n",
              "    <tr>\n",
              "      <th>1</th>\n",
              "      <td>2023</td>\n",
              "      <td>MI</td>\n",
              "      <td>CT</td>\n",
              "      <td>ML Engineer</td>\n",
              "      <td>30000</td>\n",
              "      <td>USD</td>\n",
              "      <td>30000</td>\n",
              "      <td>US</td>\n",
              "      <td>100</td>\n",
              "      <td>US</td>\n",
              "      <td>S</td>\n",
              "    </tr>\n",
              "    <tr>\n",
              "      <th>2</th>\n",
              "      <td>2023</td>\n",
              "      <td>MI</td>\n",
              "      <td>CT</td>\n",
              "      <td>ML Engineer</td>\n",
              "      <td>25500</td>\n",
              "      <td>USD</td>\n",
              "      <td>25500</td>\n",
              "      <td>US</td>\n",
              "      <td>100</td>\n",
              "      <td>US</td>\n",
              "      <td>S</td>\n",
              "    </tr>\n",
              "    <tr>\n",
              "      <th>3</th>\n",
              "      <td>2023</td>\n",
              "      <td>SE</td>\n",
              "      <td>FT</td>\n",
              "      <td>Data Scientist</td>\n",
              "      <td>175000</td>\n",
              "      <td>USD</td>\n",
              "      <td>175000</td>\n",
              "      <td>CA</td>\n",
              "      <td>100</td>\n",
              "      <td>CA</td>\n",
              "      <td>M</td>\n",
              "    </tr>\n",
              "    <tr>\n",
              "      <th>4</th>\n",
              "      <td>2023</td>\n",
              "      <td>SE</td>\n",
              "      <td>FT</td>\n",
              "      <td>Data Scientist</td>\n",
              "      <td>120000</td>\n",
              "      <td>USD</td>\n",
              "      <td>120000</td>\n",
              "      <td>CA</td>\n",
              "      <td>100</td>\n",
              "      <td>CA</td>\n",
              "      <td>M</td>\n",
              "    </tr>\n",
              "  </tbody>\n",
              "</table>\n",
              "</div>\n",
              "    <div class=\"colab-df-buttons\">\n",
              "\n",
              "  <div class=\"colab-df-container\">\n",
              "    <button class=\"colab-df-convert\" onclick=\"convertToInteractive('df-e3aa968f-914c-4b36-8664-5b1c70f523e5')\"\n",
              "            title=\"Convert this dataframe to an interactive table.\"\n",
              "            style=\"display:none;\">\n",
              "\n",
              "  <svg xmlns=\"http://www.w3.org/2000/svg\" height=\"24px\" viewBox=\"0 -960 960 960\">\n",
              "    <path d=\"M120-120v-720h720v720H120Zm60-500h600v-160H180v160Zm220 220h160v-160H400v160Zm0 220h160v-160H400v160ZM180-400h160v-160H180v160Zm440 0h160v-160H620v160ZM180-180h160v-160H180v160Zm440 0h160v-160H620v160Z\"/>\n",
              "  </svg>\n",
              "    </button>\n",
              "\n",
              "  <style>\n",
              "    .colab-df-container {\n",
              "      display:flex;\n",
              "      gap: 12px;\n",
              "    }\n",
              "\n",
              "    .colab-df-convert {\n",
              "      background-color: #E8F0FE;\n",
              "      border: none;\n",
              "      border-radius: 50%;\n",
              "      cursor: pointer;\n",
              "      display: none;\n",
              "      fill: #1967D2;\n",
              "      height: 32px;\n",
              "      padding: 0 0 0 0;\n",
              "      width: 32px;\n",
              "    }\n",
              "\n",
              "    .colab-df-convert:hover {\n",
              "      background-color: #E2EBFA;\n",
              "      box-shadow: 0px 1px 2px rgba(60, 64, 67, 0.3), 0px 1px 3px 1px rgba(60, 64, 67, 0.15);\n",
              "      fill: #174EA6;\n",
              "    }\n",
              "\n",
              "    .colab-df-buttons div {\n",
              "      margin-bottom: 4px;\n",
              "    }\n",
              "\n",
              "    [theme=dark] .colab-df-convert {\n",
              "      background-color: #3B4455;\n",
              "      fill: #D2E3FC;\n",
              "    }\n",
              "\n",
              "    [theme=dark] .colab-df-convert:hover {\n",
              "      background-color: #434B5C;\n",
              "      box-shadow: 0px 1px 3px 1px rgba(0, 0, 0, 0.15);\n",
              "      filter: drop-shadow(0px 1px 2px rgba(0, 0, 0, 0.3));\n",
              "      fill: #FFFFFF;\n",
              "    }\n",
              "  </style>\n",
              "\n",
              "    <script>\n",
              "      const buttonEl =\n",
              "        document.querySelector('#df-e3aa968f-914c-4b36-8664-5b1c70f523e5 button.colab-df-convert');\n",
              "      buttonEl.style.display =\n",
              "        google.colab.kernel.accessAllowed ? 'block' : 'none';\n",
              "\n",
              "      async function convertToInteractive(key) {\n",
              "        const element = document.querySelector('#df-e3aa968f-914c-4b36-8664-5b1c70f523e5');\n",
              "        const dataTable =\n",
              "          await google.colab.kernel.invokeFunction('convertToInteractive',\n",
              "                                                    [key], {});\n",
              "        if (!dataTable) return;\n",
              "\n",
              "        const docLinkHtml = 'Like what you see? Visit the ' +\n",
              "          '<a target=\"_blank\" href=https://colab.research.google.com/notebooks/data_table.ipynb>data table notebook</a>'\n",
              "          + ' to learn more about interactive tables.';\n",
              "        element.innerHTML = '';\n",
              "        dataTable['output_type'] = 'display_data';\n",
              "        await google.colab.output.renderOutput(dataTable, element);\n",
              "        const docLink = document.createElement('div');\n",
              "        docLink.innerHTML = docLinkHtml;\n",
              "        element.appendChild(docLink);\n",
              "      }\n",
              "    </script>\n",
              "  </div>\n",
              "\n",
              "\n",
              "<div id=\"df-030a3bfc-b84e-4bf9-9ec0-8358c2faec73\">\n",
              "  <button class=\"colab-df-quickchart\" onclick=\"quickchart('df-030a3bfc-b84e-4bf9-9ec0-8358c2faec73')\"\n",
              "            title=\"Suggest charts\"\n",
              "            style=\"display:none;\">\n",
              "\n",
              "<svg xmlns=\"http://www.w3.org/2000/svg\" height=\"24px\"viewBox=\"0 0 24 24\"\n",
              "     width=\"24px\">\n",
              "    <g>\n",
              "        <path d=\"M19 3H5c-1.1 0-2 .9-2 2v14c0 1.1.9 2 2 2h14c1.1 0 2-.9 2-2V5c0-1.1-.9-2-2-2zM9 17H7v-7h2v7zm4 0h-2V7h2v10zm4 0h-2v-4h2v4z\"/>\n",
              "    </g>\n",
              "</svg>\n",
              "  </button>\n",
              "\n",
              "<style>\n",
              "  .colab-df-quickchart {\n",
              "      --bg-color: #E8F0FE;\n",
              "      --fill-color: #1967D2;\n",
              "      --hover-bg-color: #E2EBFA;\n",
              "      --hover-fill-color: #174EA6;\n",
              "      --disabled-fill-color: #AAA;\n",
              "      --disabled-bg-color: #DDD;\n",
              "  }\n",
              "\n",
              "  [theme=dark] .colab-df-quickchart {\n",
              "      --bg-color: #3B4455;\n",
              "      --fill-color: #D2E3FC;\n",
              "      --hover-bg-color: #434B5C;\n",
              "      --hover-fill-color: #FFFFFF;\n",
              "      --disabled-bg-color: #3B4455;\n",
              "      --disabled-fill-color: #666;\n",
              "  }\n",
              "\n",
              "  .colab-df-quickchart {\n",
              "    background-color: var(--bg-color);\n",
              "    border: none;\n",
              "    border-radius: 50%;\n",
              "    cursor: pointer;\n",
              "    display: none;\n",
              "    fill: var(--fill-color);\n",
              "    height: 32px;\n",
              "    padding: 0;\n",
              "    width: 32px;\n",
              "  }\n",
              "\n",
              "  .colab-df-quickchart:hover {\n",
              "    background-color: var(--hover-bg-color);\n",
              "    box-shadow: 0 1px 2px rgba(60, 64, 67, 0.3), 0 1px 3px 1px rgba(60, 64, 67, 0.15);\n",
              "    fill: var(--button-hover-fill-color);\n",
              "  }\n",
              "\n",
              "  .colab-df-quickchart-complete:disabled,\n",
              "  .colab-df-quickchart-complete:disabled:hover {\n",
              "    background-color: var(--disabled-bg-color);\n",
              "    fill: var(--disabled-fill-color);\n",
              "    box-shadow: none;\n",
              "  }\n",
              "\n",
              "  .colab-df-spinner {\n",
              "    border: 2px solid var(--fill-color);\n",
              "    border-color: transparent;\n",
              "    border-bottom-color: var(--fill-color);\n",
              "    animation:\n",
              "      spin 1s steps(1) infinite;\n",
              "  }\n",
              "\n",
              "  @keyframes spin {\n",
              "    0% {\n",
              "      border-color: transparent;\n",
              "      border-bottom-color: var(--fill-color);\n",
              "      border-left-color: var(--fill-color);\n",
              "    }\n",
              "    20% {\n",
              "      border-color: transparent;\n",
              "      border-left-color: var(--fill-color);\n",
              "      border-top-color: var(--fill-color);\n",
              "    }\n",
              "    30% {\n",
              "      border-color: transparent;\n",
              "      border-left-color: var(--fill-color);\n",
              "      border-top-color: var(--fill-color);\n",
              "      border-right-color: var(--fill-color);\n",
              "    }\n",
              "    40% {\n",
              "      border-color: transparent;\n",
              "      border-right-color: var(--fill-color);\n",
              "      border-top-color: var(--fill-color);\n",
              "    }\n",
              "    60% {\n",
              "      border-color: transparent;\n",
              "      border-right-color: var(--fill-color);\n",
              "    }\n",
              "    80% {\n",
              "      border-color: transparent;\n",
              "      border-right-color: var(--fill-color);\n",
              "      border-bottom-color: var(--fill-color);\n",
              "    }\n",
              "    90% {\n",
              "      border-color: transparent;\n",
              "      border-bottom-color: var(--fill-color);\n",
              "    }\n",
              "  }\n",
              "</style>\n",
              "\n",
              "  <script>\n",
              "    async function quickchart(key) {\n",
              "      const quickchartButtonEl =\n",
              "        document.querySelector('#' + key + ' button');\n",
              "      quickchartButtonEl.disabled = true;  // To prevent multiple clicks.\n",
              "      quickchartButtonEl.classList.add('colab-df-spinner');\n",
              "      try {\n",
              "        const charts = await google.colab.kernel.invokeFunction(\n",
              "            'suggestCharts', [key], {});\n",
              "      } catch (error) {\n",
              "        console.error('Error during call to suggestCharts:', error);\n",
              "      }\n",
              "      quickchartButtonEl.classList.remove('colab-df-spinner');\n",
              "      quickchartButtonEl.classList.add('colab-df-quickchart-complete');\n",
              "    }\n",
              "    (() => {\n",
              "      let quickchartButtonEl =\n",
              "        document.querySelector('#df-030a3bfc-b84e-4bf9-9ec0-8358c2faec73 button');\n",
              "      quickchartButtonEl.style.display =\n",
              "        google.colab.kernel.accessAllowed ? 'block' : 'none';\n",
              "    })();\n",
              "  </script>\n",
              "</div>\n",
              "    </div>\n",
              "  </div>\n"
            ],
            "application/vnd.google.colaboratory.intrinsic+json": {
              "type": "dataframe",
              "variable_name": "df",
              "summary": "{\n  \"name\": \"df\",\n  \"rows\": 3755,\n  \"fields\": [\n    {\n      \"column\": \"work_year\",\n      \"properties\": {\n        \"dtype\": \"number\",\n        \"std\": 0,\n        \"min\": 2020,\n        \"max\": 2023,\n        \"num_unique_values\": 4,\n        \"samples\": [\n          2022,\n          2021,\n          2023\n        ],\n        \"semantic_type\": \"\",\n        \"description\": \"\"\n      }\n    },\n    {\n      \"column\": \"experience_level\",\n      \"properties\": {\n        \"dtype\": \"category\",\n        \"num_unique_values\": 4,\n        \"samples\": [\n          \"MI\",\n          \"EX\",\n          \"SE\"\n        ],\n        \"semantic_type\": \"\",\n        \"description\": \"\"\n      }\n    },\n    {\n      \"column\": \"employment_type\",\n      \"properties\": {\n        \"dtype\": \"category\",\n        \"num_unique_values\": 4,\n        \"samples\": [\n          \"CT\",\n          \"PT\",\n          \"FT\"\n        ],\n        \"semantic_type\": \"\",\n        \"description\": \"\"\n      }\n    },\n    {\n      \"column\": \"job_title\",\n      \"properties\": {\n        \"dtype\": \"category\",\n        \"num_unique_values\": 93,\n        \"samples\": [\n          \"Cloud Database Engineer\",\n          \"Staff Data Analyst\",\n          \"Insight Analyst\"\n        ],\n        \"semantic_type\": \"\",\n        \"description\": \"\"\n      }\n    },\n    {\n      \"column\": \"salary\",\n      \"properties\": {\n        \"dtype\": \"number\",\n        \"std\": 671676,\n        \"min\": 6000,\n        \"max\": 30400000,\n        \"num_unique_values\": 815,\n        \"samples\": [\n          84570,\n          138000,\n          370000\n        ],\n        \"semantic_type\": \"\",\n        \"description\": \"\"\n      }\n    },\n    {\n      \"column\": \"salary_currency\",\n      \"properties\": {\n        \"dtype\": \"category\",\n        \"num_unique_values\": 20,\n        \"samples\": [\n          \"EUR\",\n          \"MXN\",\n          \"DKK\"\n        ],\n        \"semantic_type\": \"\",\n        \"description\": \"\"\n      }\n    },\n    {\n      \"column\": \"salary_in_usd\",\n      \"properties\": {\n        \"dtype\": \"number\",\n        \"std\": 63055,\n        \"min\": 5132,\n        \"max\": 450000,\n        \"num_unique_values\": 1035,\n        \"samples\": [\n          205600,\n          375000,\n          140700\n        ],\n        \"semantic_type\": \"\",\n        \"description\": \"\"\n      }\n    },\n    {\n      \"column\": \"employee_residence\",\n      \"properties\": {\n        \"dtype\": \"category\",\n        \"num_unique_values\": 78,\n        \"samples\": [\n          \"AR\",\n          \"ES\",\n          \"AM\"\n        ],\n        \"semantic_type\": \"\",\n        \"description\": \"\"\n      }\n    },\n    {\n      \"column\": \"remote_ratio\",\n      \"properties\": {\n        \"dtype\": \"number\",\n        \"std\": 48,\n        \"min\": 0,\n        \"max\": 100,\n        \"num_unique_values\": 3,\n        \"samples\": [\n          100,\n          0,\n          50\n        ],\n        \"semantic_type\": \"\",\n        \"description\": \"\"\n      }\n    },\n    {\n      \"column\": \"company_location\",\n      \"properties\": {\n        \"dtype\": \"category\",\n        \"num_unique_values\": 72,\n        \"samples\": [\n          \"GB\",\n          \"MY\",\n          \"SG\"\n        ],\n        \"semantic_type\": \"\",\n        \"description\": \"\"\n      }\n    },\n    {\n      \"column\": \"company_size\",\n      \"properties\": {\n        \"dtype\": \"category\",\n        \"num_unique_values\": 3,\n        \"samples\": [\n          \"L\",\n          \"S\",\n          \"M\"\n        ],\n        \"semantic_type\": \"\",\n        \"description\": \"\"\n      }\n    }\n  ]\n}"
            }
          },
          "metadata": {},
          "execution_count": 3
        }
      ],
      "source": [
        "import pandas as pd\n",
        "\n",
        "df = pd.read_csv(\"ds_salaries.csv\")\n",
        "df.head()"
      ]
    },
    {
      "cell_type": "markdown",
      "id": "6696e77a",
      "metadata": {
        "id": "6696e77a"
      },
      "source": [
        "## Задание 1 (0.5 балла) Подготовка"
      ]
    },
    {
      "cell_type": "markdown",
      "id": "0cb13dc7",
      "metadata": {
        "id": "0cb13dc7"
      },
      "source": [
        "\n",
        "\n",
        "*   Разделите выборку на train, val, test (80%, 10%, 10%)\n",
        "*   Выдерите salary_in_usd в качестве таргета\n",
        "*   Найдите и удалите признак, из-за которого возможен лик в данных\n"
      ]
    },
    {
      "cell_type": "code",
      "source": [
        "df = df.drop(columns=['salary', 'salary_currency'])"
      ],
      "metadata": {
        "id": "kra_P-0RCwBr"
      },
      "id": "kra_P-0RCwBr",
      "execution_count": 2,
      "outputs": []
    },
    {
      "cell_type": "code",
      "source": [
        "from sklearn.model_selection import train_test_split\n",
        "\n",
        "y = df['salary_in_usd']\n",
        "X = df.drop('salary_in_usd', axis=1)\n",
        "X_train, X_test, y_train, y_test = train_test_split(\n",
        "    X, y,\n",
        "    test_size=0.2,\n",
        "    random_state=42,\n",
        ")\n",
        "\n",
        "X_val, X_test, y_val, y_test = train_test_split(\n",
        "    X_test, y_test,\n",
        "    test_size=0.5,\n",
        "    random_state=42\n",
        ")"
      ],
      "metadata": {
        "id": "HJNGYRCjYG8A"
      },
      "id": "HJNGYRCjYG8A",
      "execution_count": null,
      "outputs": []
    },
    {
      "cell_type": "markdown",
      "id": "f63cb01a",
      "metadata": {
        "id": "f63cb01a"
      },
      "source": [
        "## Задание 2 (0.5 балла) Линейная модель"
      ]
    },
    {
      "cell_type": "markdown",
      "id": "647a5cad",
      "metadata": {
        "id": "647a5cad"
      },
      "source": [
        "\n",
        "*   Закодируйте категориальные  признаки с помощью OneHotEncoder\n",
        "*   Обучите модель линейной регрессии\n",
        "*   Оцените  качество через MAPE и RMSE\n"
      ]
    },
    {
      "cell_type": "code",
      "source": [
        "from sklearn.linear_model import LinearRegression\n",
        "from sklearn.metrics import mean_absolute_percentage_error, mean_squared_error\n",
        "from sklearn.preprocessing import OneHotEncoder\n",
        "from sklearn.compose import ColumnTransformer\n",
        "from sklearn.pipeline import Pipeline\n",
        "\n",
        "cat_features = ['experience_level', 'employment_type', 'job_title',\n",
        "                'employee_residence', 'company_location', 'company_size']\n",
        "\n",
        "preprocessor = ColumnTransformer(\n",
        "    transformers=[\n",
        "        ('cat', OneHotEncoder(handle_unknown='ignore'), cat_features),\n",
        "    ]\n",
        ")\n",
        "\n",
        "model = Pipeline(steps=[\n",
        "    ('preprocessor', preprocessor),\n",
        "    ('regressor', LinearRegression())\n",
        "])\n",
        "\n",
        "model.fit(X_train, y_train)\n",
        "y_test_pred = model.predict(X_test)\n",
        "\n",
        "reg_mape = mean_absolute_percentage_error(y_test, y_test_pred)\n",
        "reg_rmse = mean_squared_error(y_test, y_test_pred, squared=False)\n",
        "print('MAPE: ', reg_mape)\n",
        "print('RMSE: ', reg_rmse)"
      ],
      "metadata": {
        "id": "DcfWqlvYk0ru",
        "colab": {
          "base_uri": "https://localhost:8080/"
        },
        "outputId": "4ffb32b2-b33c-400d-a835-fd0befe1f2b0"
      },
      "id": "DcfWqlvYk0ru",
      "execution_count": null,
      "outputs": [
        {
          "output_type": "stream",
          "name": "stdout",
          "text": [
            "MAPE:  0.3694070606254982\n",
            "RMSE:  51730.9424060791\n"
          ]
        }
      ]
    },
    {
      "cell_type": "markdown",
      "id": "3578292c",
      "metadata": {
        "id": "3578292c"
      },
      "source": [
        "## Задание 3 (0.5 балла) XGboost"
      ]
    },
    {
      "cell_type": "markdown",
      "source": [
        "Начнем с библиотеки xgboost.\n",
        "\n",
        "Обучите модель `XGBRegressor` на тех же данных, что линейную модель, подобрав оптимальные гиперпараметры (`max_depth, learning_rate, n_estimators, gamma`, etc.) по валидационной выборке. Оцените качество итоговой модели (MAPE, RMSE), скорость обучения и скорость предсказания."
      ],
      "metadata": {
        "id": "3RJuwwoty9w1"
      },
      "id": "3RJuwwoty9w1"
    },
    {
      "cell_type": "code",
      "source": [
        "import time\n",
        "from xgboost import XGBRegressor\n",
        "from sklearn.model_selection import RandomizedSearchCV\n",
        "\n",
        "params = {\n",
        "    'max_depth': [3, 5, 7, 9],\n",
        "    'learning_rate': [0.01, 0.1, 0.2, 0.3],\n",
        "    'n_estimators': [100, 200, 300, 500],\n",
        "    'gamma': [0, 0.1, 0.3, 0.5],\n",
        "    'reg_alpha': [0, 0.1, 0.3, 0.5],\n",
        "    'reg_lambda': [1, 1.5, 2, 2.5]\n",
        "}\n",
        "\n",
        "model = Pipeline(steps=[\n",
        "    ('preprocessor', preprocessor),\n",
        "    ('regressor', RandomizedSearchCV(XGBRegressor(),\n",
        "                                     param_distributions=params, scoring='neg_mean_squared_error',\n",
        "                                     n_iter=50, cv=3, n_jobs=-1, random_state=42))\n",
        "])\n",
        "start_time = time.time()\n",
        "model.fit(X_train, y_train)\n",
        "end_time = time.time()\n",
        "fit_time = end_time - start_time\n",
        "\n",
        "best_XGB_params = model.named_steps['regressor'].best_params_\n",
        "print('Best XGB params:', best_XGB_params)\n",
        "\n",
        "start_time = time.time()\n",
        "y_test_pred = model.predict(X_test)\n",
        "end_time = time.time()\n",
        "predict_time = end_time - start_time\n",
        "\n",
        "print('fit_time: ', fit_time)\n",
        "print('predict_time: ', predict_time)"
      ],
      "metadata": {
        "colab": {
          "base_uri": "https://localhost:8080/"
        },
        "id": "1E0-nV4b8By_",
        "outputId": "09c49199-e80d-44c0-d454-cda6b09020a3"
      },
      "id": "1E0-nV4b8By_",
      "execution_count": null,
      "outputs": [
        {
          "output_type": "stream",
          "name": "stdout",
          "text": [
            "Best XGB params: {'reg_lambda': 2.5, 'reg_alpha': 0, 'n_estimators': 200, 'max_depth': 3, 'learning_rate': 0.1, 'gamma': 0.1}\n",
            "fit_time:  43.36429262161255\n",
            "predict_time:  0.008548974990844727\n"
          ]
        }
      ]
    },
    {
      "cell_type": "code",
      "source": [
        "xgb_mape = mean_absolute_percentage_error(y_test, y_test_pred)\n",
        "xgb_rmse = mean_squared_error(y_test, y_test_pred, squared=False)\n",
        "\n",
        "print('MAPE: ', xgb_mape)\n",
        "print('RMSE: ', xgb_rmse)"
      ],
      "metadata": {
        "colab": {
          "base_uri": "https://localhost:8080/"
        },
        "id": "Avq3xNPkbxc9",
        "outputId": "ff6f907f-c5fa-4c53-bff4-734d0f74d8eb"
      },
      "id": "Avq3xNPkbxc9",
      "execution_count": null,
      "outputs": [
        {
          "output_type": "stream",
          "name": "stdout",
          "text": [
            "MAPE:  0.3490324043384218\n",
            "RMSE:  50587.515503679715\n"
          ]
        }
      ]
    },
    {
      "cell_type": "markdown",
      "source": [
        "## Задание 4 (1 балл) CatBoost"
      ],
      "metadata": {
        "id": "RmWp9wxu318i"
      },
      "id": "RmWp9wxu318i"
    },
    {
      "cell_type": "markdown",
      "source": [
        "Теперь библиотека CatBoost.\n",
        "\n",
        "Обучите модель `CatBoostRegressor`, подобрав оптимальные гиперпараметры (`depth, learning_rate, iterations`, etc.) по валидационной выборке. Оцените качество итоговой модели (MAPE, RMSE), скорость обучения и скорость предсказания."
      ],
      "metadata": {
        "id": "bDWqieZk3-rv"
      },
      "id": "bDWqieZk3-rv"
    },
    {
      "cell_type": "code",
      "source": [
        "!pip install catboost"
      ],
      "metadata": {
        "colab": {
          "base_uri": "https://localhost:8080/"
        },
        "id": "EMjNkV4dUFMB",
        "outputId": "807e14d5-d33e-485f-c206-63949bfd3788"
      },
      "id": "EMjNkV4dUFMB",
      "execution_count": null,
      "outputs": [
        {
          "output_type": "stream",
          "name": "stdout",
          "text": [
            "Collecting catboost\n",
            "  Downloading catboost-1.2.5-cp310-cp310-manylinux2014_x86_64.whl (98.2 MB)\n",
            "\u001b[2K     \u001b[90m━━━━━━━━━━━━━━━━━━━━━━━━━━━━━━━━━━━━━━━━\u001b[0m \u001b[32m98.2/98.2 MB\u001b[0m \u001b[31m2.3 MB/s\u001b[0m eta \u001b[36m0:00:00\u001b[0m\n",
            "\u001b[?25hRequirement already satisfied: graphviz in /usr/local/lib/python3.10/dist-packages (from catboost) (0.20.3)\n",
            "Requirement already satisfied: matplotlib in /usr/local/lib/python3.10/dist-packages (from catboost) (3.7.1)\n",
            "Requirement already satisfied: numpy>=1.16.0 in /usr/local/lib/python3.10/dist-packages (from catboost) (1.25.2)\n",
            "Requirement already satisfied: pandas>=0.24 in /usr/local/lib/python3.10/dist-packages (from catboost) (2.0.3)\n",
            "Requirement already satisfied: scipy in /usr/local/lib/python3.10/dist-packages (from catboost) (1.11.4)\n",
            "Requirement already satisfied: plotly in /usr/local/lib/python3.10/dist-packages (from catboost) (5.15.0)\n",
            "Requirement already satisfied: six in /usr/local/lib/python3.10/dist-packages (from catboost) (1.16.0)\n",
            "Requirement already satisfied: python-dateutil>=2.8.2 in /usr/local/lib/python3.10/dist-packages (from pandas>=0.24->catboost) (2.8.2)\n",
            "Requirement already satisfied: pytz>=2020.1 in /usr/local/lib/python3.10/dist-packages (from pandas>=0.24->catboost) (2023.4)\n",
            "Requirement already satisfied: tzdata>=2022.1 in /usr/local/lib/python3.10/dist-packages (from pandas>=0.24->catboost) (2024.1)\n",
            "Requirement already satisfied: contourpy>=1.0.1 in /usr/local/lib/python3.10/dist-packages (from matplotlib->catboost) (1.2.1)\n",
            "Requirement already satisfied: cycler>=0.10 in /usr/local/lib/python3.10/dist-packages (from matplotlib->catboost) (0.12.1)\n",
            "Requirement already satisfied: fonttools>=4.22.0 in /usr/local/lib/python3.10/dist-packages (from matplotlib->catboost) (4.53.0)\n",
            "Requirement already satisfied: kiwisolver>=1.0.1 in /usr/local/lib/python3.10/dist-packages (from matplotlib->catboost) (1.4.5)\n",
            "Requirement already satisfied: packaging>=20.0 in /usr/local/lib/python3.10/dist-packages (from matplotlib->catboost) (24.0)\n",
            "Requirement already satisfied: pillow>=6.2.0 in /usr/local/lib/python3.10/dist-packages (from matplotlib->catboost) (9.4.0)\n",
            "Requirement already satisfied: pyparsing>=2.3.1 in /usr/local/lib/python3.10/dist-packages (from matplotlib->catboost) (3.1.2)\n",
            "Requirement already satisfied: tenacity>=6.2.0 in /usr/local/lib/python3.10/dist-packages (from plotly->catboost) (8.3.0)\n",
            "Installing collected packages: catboost\n",
            "Successfully installed catboost-1.2.5\n"
          ]
        }
      ]
    },
    {
      "cell_type": "code",
      "source": [
        "from catboost import CatBoostRegressor\n",
        "\n",
        "params = {\n",
        "    'depth': [4, 6, 8, 10],\n",
        "    'learning_rate': [0.01, 0.05, 0.1, 0.2],\n",
        "    'iterations': [100, 200, 500, 1000],\n",
        "    'l2_leaf_reg': [1, 3, 5, 7],\n",
        "    'border_count': [32, 64, 128, 256]\n",
        "}\n",
        "\n",
        "model = Pipeline(steps=[\n",
        "    ('preprocessor', preprocessor),\n",
        "    ('regressor', RandomizedSearchCV(CatBoostRegressor(verbose=0),\n",
        "                                     param_distributions=params, scoring='neg_mean_squared_error',\n",
        "                                     n_iter=50, cv=3, n_jobs=-1, random_state=42))\n",
        "])\n",
        "\n",
        "start_time = time.time()\n",
        "model.fit(X_train, y_train)\n",
        "end_time = time.time()\n",
        "fit_time = end_time - start_time\n",
        "\n",
        "best_catboost_params = model.named_steps['regressor'].best_params_\n",
        "print('Best catboost params:', best_catboost_params)\n",
        "\n",
        "start_time = time.time()\n",
        "y_test_pred = model.predict(X_test)\n",
        "end_time = time.time()\n",
        "predict_time = end_time - start_time\n",
        "\n",
        "print('fit_time: ', fit_time)\n",
        "print('predict_time: ', predict_time)"
      ],
      "metadata": {
        "id": "mbhrOOPJ4X9C",
        "colab": {
          "base_uri": "https://localhost:8080/"
        },
        "outputId": "ac2a2fd5-d8b7-4603-9c05-b019c26878aa"
      },
      "id": "mbhrOOPJ4X9C",
      "execution_count": null,
      "outputs": [
        {
          "output_type": "stream",
          "name": "stdout",
          "text": [
            "Best catboost params: {'learning_rate': 0.05, 'l2_leaf_reg': 5, 'iterations': 500, 'depth': 8, 'border_count': 64}\n",
            "fit_time:  227.4683334827423\n",
            "predict_time:  0.009087562561035156\n"
          ]
        }
      ]
    },
    {
      "cell_type": "code",
      "source": [
        "catboost_mape = mean_absolute_percentage_error(y_test, y_test_pred)\n",
        "catboost_rmse = mean_squared_error(y_test, y_test_pred, squared=False)\n",
        "\n",
        "print('MAPE: ', catboost_mape)\n",
        "print('RMSE: ', catboost_rmse)"
      ],
      "metadata": {
        "id": "Ztdt39FZVruJ",
        "colab": {
          "base_uri": "https://localhost:8080/"
        },
        "outputId": "b58cfc41-d536-40fe-dd69-50a6e9e15868"
      },
      "id": "Ztdt39FZVruJ",
      "execution_count": null,
      "outputs": [
        {
          "output_type": "stream",
          "name": "stdout",
          "text": [
            "MAPE:  0.3416595174155115\n",
            "RMSE:  50123.91862246364\n"
          ]
        }
      ]
    },
    {
      "cell_type": "markdown",
      "source": [
        "Для применения catboost моделей не обязательно сначала кодировать категориальные признаки, модель может кодировать их сама. Обучите catboost с подбором оптимальных гиперпараметров снова, используя pool для передачи данных в модель с указанием какие признаки категориальные, а какие нет с помощью параметра cat_features. Оцените качество и время. Стало ли лучше?"
      ],
      "metadata": {
        "id": "ruUNeGOk4lho"
      },
      "id": "ruUNeGOk4lho"
    },
    {
      "cell_type": "code",
      "source": [
        "from catboost import Pool\n",
        "\n",
        "\n",
        "cat_features = ['experience_level', 'employment_type', 'job_title',\n",
        "                'employee_residence', 'company_location', 'company_size']\n",
        "\n",
        "params = {\n",
        "    'depth': [4, 6, 8, 10],\n",
        "    'learning_rate': [0.01, 0.05, 0.1, 0.2],\n",
        "    'iterations': [100, 200, 500, 1000],\n",
        "    'l2_leaf_reg': [1, 3, 5, 7],\n",
        "    'border_count': [32, 64, 128, 256]\n",
        "}\n",
        "\n",
        "model = RandomizedSearchCV(\n",
        "    estimator=CatBoostRegressor(verbose=0, cat_features=cat_features),\n",
        "    param_distributions=params,\n",
        "    scoring='neg_mean_squared_error',\n",
        "    n_iter=50,\n",
        "    cv=3,\n",
        "    n_jobs=-1,\n",
        "    random_state=42\n",
        ")\n",
        "\n",
        "train_pool = Pool(data=X_train, label=y_train, cat_features=cat_features)\n",
        "val_pool = Pool(data=X_val, label=y_val, cat_features=cat_features)\n",
        "\n",
        "start_time = time.time()\n",
        "model.fit(X_train, y_train)\n",
        "end_time = time.time()\n",
        "fit_time = end_time - start_time\n",
        "\n",
        "best_params = model.best_params_\n",
        "print('Best params:', best_params)\n",
        "\n",
        "final_model = CatBoostRegressor(**best_params, verbose=0)\n",
        "final_model.fit(train_pool, eval_set=val_pool, use_best_model=True)\n",
        "\n",
        "start_time = time.time()\n",
        "y_test_pred = final_model.predict(X_test)\n",
        "end_time = time.time()\n",
        "predict_time = end_time - start_time\n",
        "\n",
        "print('fit_time: ', fit_time)\n",
        "print('predict_time: ', predict_time)\n",
        "\n",
        "catboost_mape = mean_absolute_percentage_error(y_test, y_test_pred)\n",
        "catboost_rmse = mean_squared_error(y_test, y_test_pred, squared=False)\n",
        "\n",
        "print('MAPE: ', catboost_mape)\n",
        "print('RMSE: ', catboost_rmse)"
      ],
      "metadata": {
        "colab": {
          "base_uri": "https://localhost:8080/"
        },
        "id": "brNKv2FDwCtB",
        "outputId": "bec92b26-2e41-48fd-dd39-a51bee3e322c"
      },
      "id": "brNKv2FDwCtB",
      "execution_count": null,
      "outputs": [
        {
          "output_type": "stream",
          "name": "stdout",
          "text": [
            "Best params: {'learning_rate': 0.01, 'l2_leaf_reg': 7, 'iterations': 1000, 'depth': 8, 'border_count': 64}\n",
            "fit_time:  699.0497632026672\n",
            "predict_time:  0.0032341480255126953\n",
            "MAPE:  0.370827286517799\n",
            "RMSE:  50192.33335423006\n"
          ]
        }
      ]
    },
    {
      "cell_type": "markdown",
      "source": [
        "**Ответ:** 3мин 42сек против 11мин 47сек. А качество почти не изменилось, даже чуть-чуть ухудшилось"
      ],
      "metadata": {
        "id": "eA0djixU7L8c"
      },
      "id": "eA0djixU7L8c"
    },
    {
      "cell_type": "markdown",
      "id": "a881ad9d",
      "metadata": {
        "id": "a881ad9d"
      },
      "source": [
        "## Задание 5 (0.5 балла) LightGBM"
      ]
    },
    {
      "cell_type": "markdown",
      "id": "a35f87a6",
      "metadata": {
        "id": "a35f87a6"
      },
      "source": [
        "И наконец библиотека LightGBM - используйте `LGBMRegressor`, снова подберите гиперпараметры, оцените качество и скорость.\n"
      ]
    },
    {
      "cell_type": "code",
      "source": [
        "from lightgbm import LGBMRegressor\n",
        "\n",
        "\n",
        "params = {\n",
        "    'max_depth': [3, 5, 7, 10],\n",
        "    'learning_rate': [0.01, 0.05, 0.1, 0.2],\n",
        "    'n_estimators': [100, 200, 500, 1000],\n",
        "    'min_child_samples': [20, 30, 40],\n",
        "    'num_leaves': [31, 50, 70],\n",
        "}\n",
        "\n",
        "model = Pipeline(steps=[\n",
        "    ('preprocessor', preprocessor),\n",
        "    ('regressor', RandomizedSearchCV(LGBMRegressor(random_state=42, force_row_wise=True, verbose=-1),\n",
        "                                     param_distributions=params, scoring='neg_mean_squared_error',\n",
        "                                     n_iter=50, cv=3, n_jobs=-1, random_state=42))\n",
        "])\n",
        "\n",
        "start_time = time.time()\n",
        "model.fit(X_train, y_train)\n",
        "end_time = time.time()\n",
        "fit_time = end_time - start_time\n",
        "\n",
        "best_LGBM_params = model.named_steps['regressor'].best_params_\n",
        "print('Best LGBM params:', best_LGBM_params)\n",
        "\n",
        "start_time = time.time()\n",
        "y_test_pred = model.predict(X_test)\n",
        "end_time = time.time()\n",
        "predict_time = end_time - start_time\n",
        "\n",
        "print('fit_time: ', fit_time)\n",
        "print('predict_time: ', predict_time)"
      ],
      "metadata": {
        "id": "pMxY8Owp78Ow",
        "colab": {
          "base_uri": "https://localhost:8080/"
        },
        "outputId": "4b98b7cf-fcac-4c0d-ab08-866b92ea08ff"
      },
      "id": "pMxY8Owp78Ow",
      "execution_count": null,
      "outputs": [
        {
          "output_type": "stream",
          "name": "stdout",
          "text": [
            "Best LGBM params: {'num_leaves': 31, 'n_estimators': 1000, 'min_child_samples': 20, 'max_depth': 3, 'learning_rate': 0.05}\n",
            "fit_time:  31.354214668273926\n",
            "predict_time:  0.018389463424682617\n"
          ]
        }
      ]
    },
    {
      "cell_type": "code",
      "source": [
        "lgbm_mape = mean_absolute_percentage_error(y_test, y_test_pred)\n",
        "lgbm_rmse = mean_squared_error(y_test, y_test_pred, squared=False)\n",
        "\n",
        "print('MAPE: ', lgbm_mape)\n",
        "print('RMSE: ', lgbm_rmse)"
      ],
      "metadata": {
        "id": "M2-WvfIrV556",
        "colab": {
          "base_uri": "https://localhost:8080/"
        },
        "outputId": "f6d56c98-e71b-46c2-84e9-3baf70b46863"
      },
      "id": "M2-WvfIrV556",
      "execution_count": null,
      "outputs": [
        {
          "output_type": "stream",
          "name": "stdout",
          "text": [
            "MAPE:  0.3425965612350088\n",
            "RMSE:  50608.75562090897\n"
          ]
        }
      ]
    },
    {
      "cell_type": "markdown",
      "id": "7c56d873",
      "metadata": {
        "id": "7c56d873"
      },
      "source": [
        "## Задание 6 (2 балла) Сравнение и выводы"
      ]
    },
    {
      "cell_type": "markdown",
      "id": "3a2c1148",
      "metadata": {
        "id": "3a2c1148"
      },
      "source": [
        "Сравните модели бустинга и сделайте про них выводы, какая из моделей показала лучший/худший результат по качеству, скорости обучения и скорости предсказания? Как отличаются гиперпараметры для разных моделей?"
      ]
    },
    {
      "cell_type": "code",
      "source": [
        "print('Best XGB params:', best_XGB_params)\n",
        "print('MAPE: ', xgb_mape)\n",
        "print('RMSE: ', xgb_rmse)\n",
        "print('time: 44сек')\n",
        "print()\n",
        "\n",
        "print('Best catboost params:', best_catboost_params)\n",
        "print('MAPE: ', catboost_mape)\n",
        "print('RMSE: ', catboost_rmse)\n",
        "print('time: 3мин 42сек')\n",
        "print()\n",
        "\n",
        "print('Best LGBM params:', best_LGBM_params)\n",
        "print('MAPE: ', lgbm_mape)\n",
        "print('RMSE: ', lgbm_rmse)\n",
        "print('time: 32сек')"
      ],
      "metadata": {
        "colab": {
          "base_uri": "https://localhost:8080/"
        },
        "id": "CBYImviTwcSI",
        "outputId": "54519e0a-2993-432c-94ce-0201e1ed3ae1"
      },
      "id": "CBYImviTwcSI",
      "execution_count": null,
      "outputs": [
        {
          "output_type": "stream",
          "name": "stdout",
          "text": [
            "Best XGB params: {'reg_lambda': 2.5, 'reg_alpha': 0, 'n_estimators': 200, 'max_depth': 3, 'learning_rate': 0.1, 'gamma': 0.1}\n",
            "MAPE:  0.3490324043384218\n",
            "RMSE:  50587.515503679715\n",
            "time: 44сек\n",
            "\n",
            "Best catboost params: {'learning_rate': 0.05, 'l2_leaf_reg': 5, 'iterations': 500, 'depth': 8, 'border_count': 64}\n",
            "MAPE:  0.3416595174155115\n",
            "RMSE:  50123.91862246364\n",
            "time: 3мин 42сек\n",
            "\n",
            "Best LGBM params: {'num_leaves': 31, 'n_estimators': 1000, 'min_child_samples': 20, 'max_depth': 3, 'learning_rate': 0.05}\n",
            "MAPE:  0.3425965612350088\n",
            "RMSE:  50608.75562090897\n",
            "time: 32сек\n"
          ]
        }
      ]
    },
    {
      "cell_type": "markdown",
      "source": [
        "**Ответ:**\n",
        "XGBoost: Использует небольшую глубину деревьев - 3, небольшое количество деревьев - 200, среднюю скорость обучения - 0.1\n",
        "\n",
        "CatBoost: Использует высокую глубину деревьев - 8, умеренное количество итераций - 500, небольшую скорость обучения - 0.05\n",
        "\n",
        "LightGBM: Использует небольшую глубину деревьев - 3, большое количество итераций - 1000, небольшую скорость обучения - 0.05, большое количество листьев - 31, минимальное количество образцов для разделения - 20\n",
        "1. Лучшее качество: CatBoost\n",
        "2. Худшее качество: LGBM\n",
        "3. Самое быстрое обучение: LGBM\n",
        "4. Самое медленное обучение: CatBoost\n",
        "\n",
        "Если у нас есть много лишнего времени, то лучше использовать CatBoost, если его мало, то LGBM, а XGB хороший баланс качества и временем обучения"
      ],
      "metadata": {
        "id": "gzelUdAl-V9u"
      },
      "id": "gzelUdAl-V9u"
    }
  ],
  "metadata": {
    "kernelspec": {
      "display_name": "Python 3 (ipykernel)",
      "language": "python",
      "name": "python3"
    },
    "language_info": {
      "codemirror_mode": {
        "name": "ipython",
        "version": 3
      },
      "file_extension": ".py",
      "mimetype": "text/x-python",
      "name": "python",
      "nbconvert_exporter": "python",
      "pygments_lexer": "ipython3",
      "version": "3.9.1"
    },
    "colab": {
      "provenance": []
    }
  },
  "nbformat": 4,
  "nbformat_minor": 5
}